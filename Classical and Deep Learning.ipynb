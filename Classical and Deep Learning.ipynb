{
  "cells": [
    {
      "cell_type": "markdown",
      "metadata": {
        "id": "zoAmRych4zjz"
      },
      "source": [
        "# RBE/CS549 Fall 2022: Computer Vision\n",
        "## Homework 0: Alohomora\n",
        "\n",
        "Author(s): \n",
        "Prof. Nitin J. Sanket (nsanket@wpi.edu), Lening Li (lli4@wpi.edu), Gejji, Vaishnavi Vivek (vgejji@wpi.edu)\n",
        "\n",
        "Robotics Engineering Department,\n",
        "\n",
        "Worcester Polytechnic Institute\n",
        "\n",
        "Code adapted from CMSC733 at the University of Maryland, College Park."
      ]
    },
    {
      "cell_type": "markdown",
      "metadata": {
        "id": "_OTbKmZc84z9"
      },
      "source": [
        "\n",
        "## Phase 1\n",
        "\n",
        "\n"
      ]
    },
    {
      "cell_type": "markdown",
      "metadata": {
        "id": "tShNtcK9syo_"
      },
      "source": [
        "### Get the BSDS500 dataset"
      ]
    },
    {
      "cell_type": "code",
      "execution_count": 36,
      "metadata": {
        "colab": {
          "base_uri": "https://localhost:8080/"
        },
        "id": "6poCzkgco7sv",
        "outputId": "b4b4e318-6687-4a84-c5c2-4aeeb75b2d39"
      },
      "outputs": [
        {
          "output_type": "stream",
          "name": "stdout",
          "text": [
            "--2022-08-30 03:46:35--  https://raw.githubusercontent.com/leelening/rbe549/main/hw0/BSDS500.tar.xz\n",
            "Resolving raw.githubusercontent.com (raw.githubusercontent.com)... 185.199.108.133, 185.199.109.133, 185.199.110.133, ...\n",
            "Connecting to raw.githubusercontent.com (raw.githubusercontent.com)|185.199.108.133|:443... connected.\n",
            "HTTP request sent, awaiting response... 200 OK\n",
            "Length: 812060 (793K) [application/octet-stream]\n",
            "Saving to: ‘BSDS500.tar.xz.2’\n",
            "\n",
            "\rBSDS500.tar.xz.2      0%[                    ]       0  --.-KB/s               \rBSDS500.tar.xz.2    100%[===================>] 793.03K  --.-KB/s    in 0.02s   \n",
            "\n",
            "2022-08-30 03:46:35 (50.6 MB/s) - ‘BSDS500.tar.xz.2’ saved [812060/812060]\n",
            "\n",
            "BSDS500/\n",
            "BSDS500/CannyBaseline/\n",
            "BSDS500/CannyBaseline/1.png\n",
            "BSDS500/CannyBaseline/10.png\n",
            "BSDS500/CannyBaseline/2.png\n",
            "BSDS500/CannyBaseline/3.png\n",
            "BSDS500/CannyBaseline/4.png\n",
            "BSDS500/CannyBaseline/5.png\n",
            "BSDS500/CannyBaseline/6.png\n",
            "BSDS500/CannyBaseline/7.png\n",
            "BSDS500/CannyBaseline/8.png\n",
            "BSDS500/CannyBaseline/9.png\n",
            "BSDS500/GroundTruth/\n",
            "BSDS500/GroundTruth/1.png\n",
            "BSDS500/GroundTruth/10.png\n",
            "BSDS500/GroundTruth/2.png\n",
            "BSDS500/GroundTruth/3.png\n",
            "BSDS500/GroundTruth/4.png\n",
            "BSDS500/GroundTruth/5.png\n",
            "BSDS500/GroundTruth/6.png\n",
            "BSDS500/GroundTruth/7.png\n",
            "BSDS500/GroundTruth/8.png\n",
            "BSDS500/GroundTruth/9.png\n",
            "BSDS500/Images/\n",
            "BSDS500/Images/1.jpg\n",
            "BSDS500/Images/10.jpg\n",
            "BSDS500/Images/2.jpg\n",
            "BSDS500/Images/3.jpg\n",
            "BSDS500/Images/4.jpg\n",
            "BSDS500/Images/5.jpg\n",
            "BSDS500/Images/6.jpg\n",
            "BSDS500/Images/7.jpg\n",
            "BSDS500/Images/8.jpg\n",
            "BSDS500/Images/9.jpg\n",
            "BSDS500/SobelBaseline/\n",
            "BSDS500/SobelBaseline/1.png\n",
            "BSDS500/SobelBaseline/10.png\n",
            "BSDS500/SobelBaseline/2.png\n",
            "BSDS500/SobelBaseline/3.png\n",
            "BSDS500/SobelBaseline/4.png\n",
            "BSDS500/SobelBaseline/5.png\n",
            "BSDS500/SobelBaseline/6.png\n",
            "BSDS500/SobelBaseline/7.png\n",
            "BSDS500/SobelBaseline/8.png\n",
            "BSDS500/SobelBaseline/9.png\n",
            "mv: cannot move 'BSDS500/' to '/content/data/BSDS500': Directory not empty\n"
          ]
        }
      ],
      "source": [
        "!wget https://raw.githubusercontent.com/leelening/rbe549/main/hw0/BSDS500.tar.xz\n",
        "!tar -xvf BSDS500.tar.xz\n",
        "!mv BSDS500/ /content/data/"
      ]
    },
    {
      "cell_type": "code",
      "execution_count": 37,
      "metadata": {
        "colab": {
          "base_uri": "https://localhost:8080/"
        },
        "id": "6FH307bN0MDt",
        "outputId": "cf4c0b77-6c0f-478f-cafc-7f65054fa542"
      },
      "outputs": [
        {
          "output_type": "stream",
          "name": "stdout",
          "text": [
            "--2022-08-30 03:46:37--  https://raw.githubusercontent.com/leelening/rbe549/main/hw0/TxtFiles.tar.xz\n",
            "Resolving raw.githubusercontent.com (raw.githubusercontent.com)... 185.199.108.133, 185.199.109.133, 185.199.110.133, ...\n",
            "Connecting to raw.githubusercontent.com (raw.githubusercontent.com)|185.199.108.133|:443... connected.\n",
            "HTTP request sent, awaiting response... 200 OK\n",
            "Length: 55376 (54K) [application/octet-stream]\n",
            "Saving to: ‘TxtFiles.tar.xz.2’\n",
            "\n",
            "\rTxtFiles.tar.xz.2     0%[                    ]       0  --.-KB/s               \rTxtFiles.tar.xz.2   100%[===================>]  54.08K  --.-KB/s    in 0.003s  \n",
            "\n",
            "2022-08-30 03:46:37 (15.5 MB/s) - ‘TxtFiles.tar.xz.2’ saved [55376/55376]\n",
            "\n",
            "TxtFiles/\n",
            "TxtFiles/DirNamesTest.txt\n",
            "TxtFiles/DirNamesTrain.txt\n",
            "TxtFiles/LabelsTest.txt\n",
            "TxtFiles/LabelsTrain.txt\n",
            "mv: cannot move 'TxtFiles/' to '/content/data/TxtFiles': Directory not empty\n"
          ]
        }
      ],
      "source": [
        "!wget https://raw.githubusercontent.com/leelening/rbe549/main/hw0/TxtFiles.tar.xz\n",
        "!tar -xvf TxtFiles.tar.xz\n",
        "!mv TxtFiles/ /content/data/"
      ]
    },
    {
      "cell_type": "code",
      "execution_count": 38,
      "metadata": {
        "id": "lak3Alk44zj1"
      },
      "outputs": [],
      "source": [
        "import numpy as np\n",
        "import cv2\n",
        "from matplotlib import pyplot as plt\n",
        "from math import exp, sqrt, pi\n",
        "import math\n",
        "from google.colab import files\n",
        "from collections import defaultdict\n",
        "from google.colab.patches import cv2_imshow"
      ]
    },
    {
      "cell_type": "markdown",
      "metadata": {
        "id": "mN-AX2a04zj2"
      },
      "source": [
        "1. Generate Difference of Gaussian Filter Bank: (DoG)\n",
        "2. Display all the filters in this filter bank and save image as DoG.png,\n",
        "3. use command \"cv2.imwrite(...)\""
      ]
    },
    {
      "cell_type": "code",
      "execution_count": 39,
      "metadata": {
        "colab": {
          "base_uri": "https://localhost:8080/",
          "height": 556
        },
        "id": "UEpnMgO64zj3",
        "outputId": "019e2bb5-89f0-490a-a877-9563cb1380de"
      },
      "outputs": [
        {
          "output_type": "stream",
          "name": "stdout",
          "text": [
            "<class 'numpy.ndarray'>\n",
            "24\n",
            "(11, 11)\n"
          ]
        },
        {
          "output_type": "display_data",
          "data": {
            "text/plain": [
              "<Figure size 720x360 with 12 Axes>"
            ],
            "image/png": "[encoded data removed]"
          },
          "metadata": {
            "needs_background": "light"
          }
        },
        {
          "output_type": "display_data",
          "data": {
            "text/plain": [
              "<Figure size 720x360 with 12 Axes>"
            ],
            "image/png": "[encoded data removed]"
          },
          "metadata": {
            "needs_background": "light"
          }
        }
      ],
      "source": [
        "\"\"\"\n",
        "Generate Difference of Gaussian Filter Bank: (DoG)\n",
        "Display all the filters in this filter bank and save image as DoG.png,\n",
        "use command \"cv2.imwrite(...)\"\n",
        "\"\"\"\n",
        "\n",
        "# Save filters\n",
        "all_filters=defaultdict()\n",
        "\n",
        "\n",
        "def minmax(image):\n",
        "    image=(image - np.min(image))/np.ptp(image)\n",
        "    return image\n",
        "\t\n",
        "def rot(image, angle):\n",
        "    height, width = image.shape[:2]\n",
        "    center = (width/2, height/2)\n",
        "    rotate_matrix = cv2.getRotationMatrix2D(center=center, angle=angle, scale=1)\n",
        "    rotated_image = cv2.warpAffine(src=image, M=rotate_matrix, dsize=(width, height))\n",
        "    return rotated_image\n",
        "    \n",
        "def gauss(sigma1, sigma2,x_1,scale):\n",
        "    Ksize = math.floor(x_1/2)\n",
        "    x, y = np.meshgrid(np.linspace(-Ksize,Ksize,scale), np.linspace(-Ksize,Ksize,scale))\n",
        "    sigma = sigma1*sigma2\n",
        "    den = (2*pi*sigma)\n",
        "    e = np.exp(-((x*x/( 2.0 * sigma1**2 )) + (y*y/( 2.0 * sigma2**2 ))))\n",
        "    g = e/den\n",
        "    return g\n",
        "\n",
        "sobel_kernel = (np.array([[-1,0,1],[-2,0,2],[-1,0,1]]))\n",
        "g = gauss(1,1,9,11)\n",
        "g2 = gauss(sqrt(2),sqrt(2),9,11)\n",
        "DoG = cv2.filter2D(g, -1, sobel_kernel)  \n",
        "DoG2 = cv2.filter2D(g2, -1, sobel_kernel) \n",
        "print(type(DoG))  \n",
        "# DoG_final = []\n",
        "# # fig = plt.figure(figsize=(10,7))\n",
        "# angles=np.linspace(0,360,num=12)\n",
        "# for angle in angles:\n",
        "#   filter_created=rot(DoG,angle)\n",
        "#   DoG_final.append(filter_created)\n",
        "\n",
        "# fig,ax=plt.subplots(2,6)\n",
        "# row=0\n",
        "# column=0\n",
        "# # all_filters[\"DoG\"]=[]\n",
        "# for i,filter in enumerate(DoG_final):\n",
        "\n",
        "#   if i>5:\n",
        "#     row=1\n",
        "#   column=i%6\n",
        "#   ax[row, column].set_xticks([])\n",
        "#   ax[row,column].set_yticks([])\n",
        "\n",
        "#   ax[row, column].imshow(filter,cmap='gray')\n",
        "#   # all_filters[\"DoG\"].append(np.array(filter))\n",
        "#   column+=1\n",
        "#   plt.savefig('DoG.png')\n",
        "  # files.download(\"DoG.png\")\n",
        "\n",
        "all_filters[\"DoG\"]=[]\n",
        "DoG_bef = DoG\n",
        "fig = plt.figure(figsize = [10,5])\n",
        "for i in range(12):\n",
        "  fig.add_subplot(2,6,i+1)\n",
        "  # Lfn_bef = Lfn_bef.astype(np.uint8)\n",
        "  DoG_aft = rot(DoG_bef,30*(i+1))\n",
        "  plt.imshow(DoG_aft, cmap = \"gray\")\n",
        "  all_filters['DoG'].append(np.array(DoG_aft))\n",
        "  plt.axis(\"off\")\n",
        "  plt.savefig('.png')\n",
        "  # files.download('LM.png')\n",
        "  DoG_bef = DoG_aft\n",
        "\n",
        "DoG_bef = DoG2\n",
        "fig = plt.figure(figsize = [10,5])\n",
        "for i in range(12):\n",
        "  fig.add_subplot(2,6,i+1)\n",
        "  # Lfn_bef = Lfn_bef.astype(np.uint8)\n",
        "  DoG_aft = rot(DoG_bef,30*(i+1))\n",
        "  plt.imshow(DoG_aft, cmap = \"gray\")\n",
        "  all_filters['DoG'].append(np.array(DoG_aft))\n",
        "  plt.axis(\"off\")\n",
        "  plt.savefig('.png')\n",
        "  # files.download('LM.png')\n",
        "  DoG_bef = DoG_aft\n",
        "\n",
        "cv2.waitKey(0)\n",
        "cv2.destroyAllWindows()\n",
        "\n",
        "# I = cv2.imread(\"Lenna.png\")\n",
        "# edge1 = cv2.filter2D(I,-1,sobel_kernel)\n",
        "# cv2_imshow(edge1, cmap = \"gray\")\n",
        "\n",
        "print(len(all_filters['DoG']))\n",
        "print(all_filters['DoG'][0].shape)"
      ]
    },
    {
      "cell_type": "code",
      "source": [
        "360/12"
      ],
      "metadata": {
        "colab": {
          "base_uri": "https://localhost:8080/"
        },
        "id": "l3CdxjTuIkW6",
        "outputId": "d1634ff6-fe7c-44ae-ecd2-ce5d250226d0"
      },
      "execution_count": 40,
      "outputs": [
        {
          "output_type": "execute_result",
          "data": {
            "text/plain": [
              "30.0"
            ]
          },
          "metadata": {},
          "execution_count": 40
        }
      ]
    },
    {
      "cell_type": "code",
      "source": [
        "import math\n",
        "x1 = 11\n",
        "print(int(x1/2))\n",
        "print(math.floor(x1/2))"
      ],
      "metadata": {
        "colab": {
          "base_uri": "https://localhost:8080/"
        },
        "id": "uZ2lM0nLQaiN",
        "outputId": "2aff864b-8812-4f0c-d73d-16f3f7f3fa79"
      },
      "execution_count": 41,
      "outputs": [
        {
          "output_type": "stream",
          "name": "stdout",
          "text": [
            "5\n",
            "5\n"
          ]
        }
      ]
    },
    {
      "cell_type": "code",
      "execution_count": 42,
      "metadata": {
        "colab": {
          "base_uri": "https://localhost:8080/",
          "height": 1000
        },
        "id": "BqQMHk7jFzeU",
        "outputId": "e8353972-84cd-4648-e822-7a63041d819d"
      },
      "outputs": [
        {
          "output_type": "stream",
          "name": "stdout",
          "text": [
            "84\n",
            "(11, 11) (11, 11) (11, 11)\n"
          ]
        },
        {
          "output_type": "display_data",
          "data": {
            "text/plain": [
              "<Figure size 720x360 with 6 Axes>"
            ],
            "image/png": "[encoded data removed]"
          },
          "metadata": {
            "needs_background": "light"
          }
        },
        {
          "output_type": "display_data",
          "data": {
            "text/plain": [
              "<Figure size 720x360 with 6 Axes>"
            ],
            "image/png": "[encoded data removed]"
          },
          "metadata": {
            "needs_background": "light"
          }
        },
        {
          "output_type": "display_data",
          "data": {
            "text/plain": [
              "<Figure size 720x360 with 6 Axes>"
            ],
            "image/png": "[encoded data removed]"
          },
          "metadata": {
            "needs_background": "light"
          }
        },
        {
          "output_type": "display_data",
          "data": {
            "text/plain": [
              "<Figure size 720x360 with 6 Axes>"
            ],
            "image/png": "[encoded data removed]"
          },
          "metadata": {
            "needs_background": "light"
          }
        },
        {
          "output_type": "display_data",
          "data": {
            "text/plain": [
              "<Figure size 720x360 with 6 Axes>"
            ],
            "image/png": "[encoded data removed]"
          },
          "metadata": {
            "needs_background": "light"
          }
        },
        {
          "output_type": "display_data",
          "data": {
            "text/plain": [
              "<Figure size 720x360 with 6 Axes>"
            ],
            "image/png": "[encoded data removed]"
          },
          "metadata": {
            "needs_background": "light"
          }
        },
        {
          "output_type": "display_data",
          "data": {
            "text/plain": [
              "<Figure size 720x360 with 6 Axes>"
            ],
            "image/png": "[encoded data removed]"
          },
          "metadata": {
            "needs_background": "light"
          }
        },
        {
          "output_type": "display_data",
          "data": {
            "text/plain": [
              "<Figure size 720x360 with 6 Axes>"
            ],
            "image/png": "[encoded data removed]"
          },
          "metadata": {
            "needs_background": "light"
          }
        },
        {
          "output_type": "display_data",
          "data": {
            "text/plain": [
              "<Figure size 720x360 with 6 Axes>"
            ],
            "image/png": "[encoded data removed]"
          },
          "metadata": {
            "needs_background": "light"
          }
        },
        {
          "output_type": "display_data",
          "data": {
            "text/plain": [
              "<Figure size 720x360 with 6 Axes>"
            ],
            "image/png": "[encoded data removed]"
          },
          "metadata": {
            "needs_background": "light"
          }
        },
        {
          "output_type": "display_data",
          "data": {
            "text/plain": [
              "<Figure size 720x360 with 6 Axes>"
            ],
            "image/png": "[encoded data removed]"
          },
          "metadata": {
            "needs_background": "light"
          }
        },
        {
          "output_type": "display_data",
          "data": {
            "text/plain": [
              "<Figure size 720x360 with 6 Axes>"
            ],
            "image/png": "[encoded data removed]"
          },
          "metadata": {
            "needs_background": "light"
          }
        }
      ],
      "source": [
        "from IPython.utils.tempdir import TemporaryDirectory\n",
        "from google.colab.patches import cv2_imshow\n",
        "sigma1 = 1\n",
        "sigma2 = 3*sigma1\n",
        "\n",
        "def LMFilters(sigma1, sigma2, second_derivative_flag):\n",
        "  g1 = gauss(sigma1,sigma2,7,11)\n",
        "  LM1 = cv2.filter2D(g1,-1,sobel_kernel)\n",
        "  LM_final = []\n",
        "  if second_derivative_flag == 0:\n",
        "    LM = cv2.filter2D(g1,-1,sobel_kernel)\n",
        "  else:\n",
        "    LM1 = cv2.filter2D(g1,-1,sobel_kernel)\n",
        "    LM =  cv2.filter2D(LM1,-1,sobel_kernel)\n",
        "  angles=np.linspace(0,360,num=6)\n",
        "  return LM \n",
        "##################################\n",
        "\"\"\"LMS\"\"\"\n",
        "##################################\n",
        "Lfn = LMFilters(1,3,1)\n",
        "Lfn2 = LMFilters(sqrt(2),3*sqrt(2),1)\n",
        "Lfn3 = LMFilters(2,6,1)\n",
        "\n",
        "Lfn4 = LMFilters(1,3,0)\n",
        "Lfn5 = LMFilters(sqrt(2),3*sqrt(2),0)\n",
        "Lfn6 = LMFilters(2,6,0)\n",
        "\n",
        "\n",
        "Lfn_bef = Lfn\n",
        "fig3 = plt.figure(figsize = [10,5])\n",
        "all_filters['LM'] = []\n",
        "for i in range(6):\n",
        "  fig3.add_subplot(1,6,i+1)\n",
        "  # Lfn_bef = Lfn_bef.astype(np.uint8)\n",
        "  Lfn_aft = rot(Lfn_bef,60*(i+1))\n",
        "  plt.imshow(Lfn_aft, cmap = \"gray\")\n",
        "  all_filters['LM'].append(np.array(Lfn_aft))\n",
        "  plt.axis(\"off\")\n",
        "  plt.savefig('LM.png')\n",
        "  # files.download('LM.png')\n",
        "  Lfn_bef = Lfn_aft\n",
        "\n",
        "Lfn_bef = Lfn2\n",
        "fig4 = plt.figure(figsize = [10,5])\n",
        "for i in range(6):\n",
        "  fig4.add_subplot(1,6,i+1)\n",
        "  # Lfn_bef = Lfn_bef.astype(np.uint8)\n",
        "  Lfn_aft = rot(Lfn_bef,60*(i+1))\n",
        "  plt.imshow(Lfn_aft, cmap = \"gray\")\n",
        "  all_filters['LM'].append(np.array(Lfn_aft))\n",
        "  plt.axis(\"off\")\n",
        "  plt.savefig('LM.png')\n",
        "  # files.download('LM.png')\n",
        "  Lfn_bef = Lfn_aft\n",
        "\n",
        "\n",
        "Lfn_bef = Lfn3\n",
        "fig5 = plt.figure(figsize = [10,5])\n",
        "for i in range(6):\n",
        "  fig5.add_subplot(1,6,i+1)\n",
        "  # Lfn_bef = Lfn_bef.astype(np.uint8)\n",
        "  Lfn_aft = rot(Lfn_bef,60*(i+1))\n",
        "  plt.imshow(Lfn_aft, cmap = \"gray\")\n",
        "  all_filters['LM'].append(np.array(Lfn_aft))\n",
        "  plt.axis(\"off\")\n",
        "  plt.savefig('LM.png')\n",
        "  # files.download('LM.png')\n",
        "  Lfn_bef = Lfn_aft\n",
        "\n",
        "Lfn_bef = Lfn4\n",
        "fig6 = plt.figure(figsize = [10,5])\n",
        "for i in range(6):\n",
        "  fig6.add_subplot(1,6,i+1)\n",
        "  # Lfn_bef = Lfn_bef.astype(np.uint8)\n",
        "  Lfn_aft = rot(Lfn_bef,60*(i+1))\n",
        "  plt.imshow(Lfn_aft, cmap = \"gray\")\n",
        "  all_filters['LM'].append(np.array(Lfn_aft))\n",
        "  plt.axis(\"off\")\n",
        "  plt.savefig('LM.png')\n",
        "  # files.download('LM.png')\n",
        "  Lfn_bef = Lfn_aft\n",
        "\n",
        "Lfn_bef = Lfn5\n",
        "fig7 = plt.figure(figsize = [10,5])\n",
        "for i in range(6):\n",
        "  fig7.add_subplot(1,6,i+1)\n",
        "  # Lfn_bef = Lfn_bef.astype(np.uint8)\n",
        "  Lfn_aft = rot(Lfn_bef,60*(i+1))\n",
        "  plt.imshow(Lfn_aft, cmap = \"gray\")\n",
        "  all_filters['LM'].append(np.array(Lfn_aft))\n",
        "  plt.axis(\"off\")\n",
        "  plt.savefig('LM.png')\n",
        "  # files.download('LM.png')\n",
        "  Lfn_bef = Lfn_aft\n",
        "\n",
        "\n",
        "Lfn_bef = Lfn6\n",
        "fig8 = plt.figure(figsize = [10,5])\n",
        "for i in range(6):\n",
        "  fig8.add_subplot(1,6,i+1)\n",
        "  # Lfn_bef = Lfn_bef.astype(np.uint8)\n",
        "  Lfn_aft = rot(Lfn_bef,60*(i+1))\n",
        "  plt.imshow(Lfn_aft, cmap = \"gray\")\n",
        "  all_filters['LM'].append(np.array(Lfn_aft))\n",
        "  plt.axis(\"off\")\n",
        "  plt.savefig('LM.png')\n",
        "  # files.download('LM.png')\n",
        "  Lfn_bef = Lfn_aft\n",
        "##################################\n",
        "\"\"\"LML\"\"\"\n",
        "##################################\n",
        "Lfl1 = LMFilters(sqrt(2),3*sqrt(2),1)\n",
        "Lfl2 = LMFilters(2*sqrt(2),2*3*sqrt(2),1)\n",
        "Lfl3 = LMFilters(4,12,1)\n",
        "\n",
        "Lfl4 = LMFilters(sqrt(2),3*sqrt(2),0)\n",
        "Lfl5 = LMFilters(2*sqrt(2),6*sqrt(2),0)\n",
        "Lfl6 = LMFilters(4,12,0)\n",
        "\n",
        "\n",
        "Lfn_bef = Lfl1\n",
        "fig15 = plt.figure(figsize = [10,5])\n",
        "for i in range(6):\n",
        "  fig15.add_subplot(1,6,i+1)\n",
        "  # Lfn_bef = Lfn_bef.astype(np.uint8)\n",
        "  Lfn_aft = rot(Lfn_bef,60*(i+1))\n",
        "  plt.imshow(Lfn_aft, cmap = \"gray\")\n",
        "  all_filters['LM'].append(np.array(Lfn_aft))\n",
        "  plt.axis(\"off\")\n",
        "  plt.savefig('LM.png')\n",
        "  # files.download('LM.png')\n",
        "  Lfn_bef = Lfn_aft\n",
        "\n",
        "Lfn_bef = Lfl2\n",
        "fig16 = plt.figure(figsize = [10,5])\n",
        "for i in range(6):\n",
        "  fig16.add_subplot(1,6,i+1)\n",
        "  # Lfn_bef = Lfn_bef.astype(np.uint8)\n",
        "  Lfn_aft = rot(Lfn_bef,60*(i+1))\n",
        "  plt.imshow(Lfn_aft, cmap = \"gray\")\n",
        "  all_filters['LM'].append(np.array(Lfn_aft))\n",
        "  plt.axis(\"off\")\n",
        "  plt.savefig('LM.png')\n",
        "  # files.download('LM.png')\n",
        "  Lfn_bef = Lfn_aft\n",
        "\n",
        "\n",
        "Lfn_bef = Lfl3\n",
        "fig17 = plt.figure(figsize = [10,5])\n",
        "for i in range(6):\n",
        "  fig17.add_subplot(1,6,i+1)\n",
        "  # Lfn_bef = Lfn_bef.astype(np.uint8)\n",
        "  Lfn_aft = rot(Lfn_bef,60*(i+1))\n",
        "  plt.imshow(Lfn_aft, cmap = \"gray\")\n",
        "  all_filters['LM'].append(np.array(Lfn_aft))\n",
        "  plt.axis(\"off\")\n",
        "  plt.savefig('LM.png')\n",
        "  # files.download('LM.png')\n",
        "  Lfn_bef = Lfn_aft\n",
        "\n",
        "Lfn_bef = Lfl4\n",
        "fig18 = plt.figure(figsize = [10,5])\n",
        "for i in range(6):\n",
        "  fig18.add_subplot(1,6,i+1)\n",
        "  # Lfn_bef = Lfn_bef.astype(np.uint8)\n",
        "  Lfn_aft = rot(Lfn_bef,60*(i+1))\n",
        "  plt.imshow(Lfn_aft, cmap = \"gray\")\n",
        "  all_filters['LM'].append(np.array(Lfn_aft))\n",
        "  plt.axis(\"off\")\n",
        "  plt.savefig('LM.png')\n",
        "  # files.download('LM.png')\n",
        "  Lfn_bef = Lfn_aft\n",
        "\n",
        "Lfn_bef = Lfl5\n",
        "fig19 = plt.figure(figsize = [10,5])\n",
        "for i in range(6):\n",
        "  fig19.add_subplot(1,6,i+1)\n",
        "  # Lfn_bef = Lfn_bef.astype(np.uint8)\n",
        "  Lfn_aft = rot(Lfn_bef,60*(i+1))\n",
        "  plt.imshow(Lfn_aft, cmap = \"gray\")\n",
        "  all_filters['LM'].append(np.array(Lfn_aft))\n",
        "  plt.axis(\"off\")\n",
        "  plt.savefig('LM.png')\n",
        "  # files.download('LM.png')\n",
        "  Lfn_bef = Lfn_aft\n",
        "\n",
        "\n",
        "Lfn_bef = Lfl6\n",
        "fig20 = plt.figure(figsize = [10,5])\n",
        "for i in range(6):\n",
        "  fig20.add_subplot(1,6,i+1)\n",
        "  # Lfn_bef = Lfn_bef.astype(np.uint8)\n",
        "  Lfn_aft = rot(Lfn_bef,60*(i+1))\n",
        "  plt.imshow(Lfn_aft, cmap = \"gray\")\n",
        "  all_filters['LM'].append(np.array(Lfn_aft))\n",
        "  plt.axis(\"off\")\n",
        "  plt.savefig('LM.png')\n",
        "  # files.download('LM.png')\n",
        "  Lfn_bef = Lfn_aft\n",
        "\n",
        "\"\"\"Laplacian\"\"\"\n",
        "\n",
        "def lap(sigma1, sigma2,x_1,scale):\n",
        "    Ksize = math.floor(x_1/2)\n",
        "    x, y = np.meshgrid(np.linspace(-Ksize,Ksize,scale), np.linspace(-Ksize,Ksize,scale))\n",
        "    sigma = sigma1*sigma2\n",
        "    prev = (1/(pi*sigma**4))*(1 - ((Ksize**2 + Ksize**2)/2*sigma**2))\n",
        "    e = np.exp(-((x*x/( 2.0 * sigma1**2 )) + (y*y/( 2.0 * sigma2**2 ))))\n",
        "    L = prev*e\n",
        "    return L\n",
        "\n",
        "g_1 = gauss(1,1,9,11)\n",
        "all_filters['LM'].append(np.array(g_1))\n",
        "g_2 = gauss(sqrt(2),sqrt(2),9,11)\n",
        "all_filters['LM'].append(np.array(g_2))\n",
        "g_3 = gauss(2,2,9,11)\n",
        "all_filters['LM'].append(np.array(g_3))\n",
        "g_4 = gauss(2*sqrt(2),2*sqrt(2),9,11)\n",
        "all_filters['LM'].append(np.array(g_4))\n",
        "L1 = lap(1,3,-10,11)\n",
        "all_filters['LM'].append(np.array(L1))\n",
        "L2 = lap(sqrt(2),3*sqrt(2),-10,11)\n",
        "all_filters['LM'].append(np.array(L2))\n",
        "L3 = lap(2,6,-10,11)\n",
        "all_filters['LM'].append(np.array(L3))\n",
        "L4 = lap(2*sqrt(2),6*sqrt(2),-10,11)\n",
        "all_filters['LM'].append(np.array(L4))\n",
        "L5 = lap(sqrt(2),3*sqrt(2),-10,11)\n",
        "all_filters['LM'].append(np.array(L5))\n",
        "L6 = lap(2,6,-10,11)\n",
        "all_filters['LM'].append(np.array(L6))\n",
        "L7 = lap(2*sqrt(2),6*sqrt(2),-10,11)\n",
        "all_filters['LM'].append(np.array(L7))\n",
        "L8 = lap(4,12,-10,11)\n",
        "all_filters['LM'].append(np.array(L8))\n",
        "\n",
        "\n",
        "print(len(all_filters['LM']))\n",
        "print(all_filters['LM'][0].shape,all_filters['LM'][-1].shape,all_filters['LM'][-2].shape)"
      ]
    },
    {
      "cell_type": "code",
      "source": [
        "g = gauss(2,2,9,11)\n",
        "L = lap(1,1,-10,11)\n",
        "LS = np.array([[-1,-1,-1],[-1,8,-1],[-1,-1,-1]])\n",
        "plt.imshow(L)\n"
      ],
      "metadata": {
        "colab": {
          "base_uri": "https://localhost:8080/",
          "height": 283
        },
        "id": "jfQU7wcWQC-E",
        "outputId": "4619162e-88cb-4b00-e4d9-8e74494a6f6c"
      },
      "execution_count": 43,
      "outputs": [
        {
          "output_type": "execute_result",
          "data": {
            "text/plain": [
              "<matplotlib.image.AxesImage at 0x7fe73ff41150>"
            ]
          },
          "metadata": {},
          "execution_count": 43
        },
        {
          "output_type": "display_data",
          "data": {
            "text/plain": [
              "<Figure size 432x288 with 1 Axes>"
            ],
            "image/png": "[encoded data removed]"
          },
          "metadata": {
            "needs_background": "light"
          }
        }
      ]
    },
    {
      "cell_type": "code",
      "source": [
        "plt.imshow(g)"
      ],
      "metadata": {
        "colab": {
          "base_uri": "https://localhost:8080/",
          "height": 283
        },
        "id": "GHpum9KGQdDu",
        "outputId": "b52f73b9-5ffb-45bc-8481-c08ee6a22752"
      },
      "execution_count": 44,
      "outputs": [
        {
          "output_type": "execute_result",
          "data": {
            "text/plain": [
              "<matplotlib.image.AxesImage at 0x7fe740b83a90>"
            ]
          },
          "metadata": {},
          "execution_count": 44
        },
        {
          "output_type": "display_data",
          "data": {
            "text/plain": [
              "<Figure size 432x288 with 1 Axes>"
            ],
            "image/png": "[encoded data removed]"
          },
          "metadata": {
            "needs_background": "light"
          }
        }
      ]
    },
    {
      "cell_type": "markdown",
      "metadata": {
        "id": "W9sMEggi4zj3"
      },
      "source": [
        "\n",
        "1. Generate Leung-Malik Filter Bank: (LM)\n",
        "2. Display all the filters in this filter bank and save image as LM.png,\n",
        "3. use command \"cv2.imwrite(...)\"\n"
      ]
    },
    {
      "cell_type": "markdown",
      "metadata": {
        "id": "iWPCb37t4zj3"
      },
      "source": [
        "1. Generate Gabor Filter Bank: (Gabor)\n",
        "2. Display all the filters in this filter bank and save image as Gabor.png,\n",
        "3. use command \"cv2.imwrite(...)\"\n"
      ]
    },
    {
      "cell_type": "code",
      "execution_count": 45,
      "metadata": {
        "id": "N3RUEhBJ4zj4",
        "colab": {
          "base_uri": "https://localhost:8080/",
          "height": 225
        },
        "outputId": "2b9df687-6765-4565-a322-d3810aae9aaf"
      },
      "outputs": [
        {
          "output_type": "stream",
          "name": "stdout",
          "text": [
            "(11, 11)\n",
            "32\n",
            "(11, 11) (11, 11) (11, 11)\n"
          ]
        },
        {
          "output_type": "display_data",
          "data": {
            "text/plain": [
              "<Figure size 2880x2880 with 8 Axes>"
            ],
            "image/png": "[encoded data removed]"
          },
          "metadata": {
            "needs_background": "light"
          }
        }
      ],
      "source": [
        "# def gabor(sigma1, sigma2,x_1,scale,freq):\n",
        "#     Ksize = math.floor(x_1/2)\n",
        "#     x, y = np.meshgrid(np.linspace(-Ksize,Ksize,scale), np.linspace(-Ksize,Ksize,scale))\n",
        "#     sigma = sigma1*sigma2\n",
        "#     # x = np.vectorize(x)\n",
        "#     # y = np.vectorize(y)\n",
        "#     prev = np.exp(-0.5 * ((x / sigma1) **2  +  (y / sigma2) **2  ) )\n",
        "#     prev =  prev * (1.0/(2.0 * pi * sigma1 * sigma2))\n",
        "#     C = np.cos((x + y) * (2 * pi * freq) )\n",
        "#     G = prev*C\n",
        "#     return G\n",
        "\n",
        "def gaborF(sigma_x, sigma_y, theta, Ksize, scale):\n",
        "  Lambda = 5\n",
        "  psi = 1.5\n",
        "  gamm = 0.75\n",
        "  x, y = np.meshgrid(np.linspace(-Ksize,Ksize,scale), np.linspace(-Ksize,Ksize,scale))\n",
        "  x_theta = x * np.cos(theta) + y * np.sin(theta)\n",
        "  y_theta = -x * np.sin(theta) + y * np.cos(theta)\n",
        "  gb = np.exp(-(1/2) * (x_theta ** 2 / sigma_x ** 2 + y_theta ** 2 / sigma_y ** 2)) * np.sin(2 * np.pi / Lambda * x_theta + psi)\n",
        "  return gb\n",
        "\n",
        "gabor = gaborF(2,3,pi/2,7,2000) \n",
        "fig9 = plt.figure(figsize = [40,40])\n",
        "gabor_bef = gabor\n",
        "for i in range(8):\n",
        "  fig9.add_subplot(1,8,i+1)\n",
        "  # gabor_bef = gabor_bef.astype(np.uint8)\n",
        "  gabor_aft = rot(gabor_bef,360/8*(i+1))\n",
        "  plt.imshow(gabor_aft, cmap = \"gray\")\n",
        "  # plt.axis(\"off\")\n",
        "  # plt.savefig('gabor.png')\n",
        "  #files.download(\"gabor.png\") \n",
        "  gabor_bef = gabor_aft\n",
        "  \n",
        "gabor1 = gaborF(1,1,pi/2,9,11)\n",
        "gabor2 = gaborF(1,3,3*pi/4,9,11)\n",
        "gabor3 = gaborF(sqrt(2),3*sqrt(2),pi/4,9,11)\n",
        "gabor4 = gaborF(2,3,pi/2,9,11)\n",
        "# plt.imshow(gabor, cmap = 'gray')\n",
        "gabor_bef = gabor1\n",
        "# fig10 = plt.figure(figsize = [10,5])\n",
        "all_filters[\"gabbu\"] = []\n",
        "for i in range(8):\n",
        "  # fig10.add_subplot(1,8,i+1)\n",
        "  # gabor_bef = gabor_bef.astype(np.uint8)\n",
        "  gabor_aft = rot(gabor_bef,360/8*(i+1))\n",
        "  # plt.imshow(gabor_aft, cmap = \"gray\")\n",
        "  all_filters[\"gabbu\"].append(np.array(gabor_aft))\n",
        "  # plt.axis(\"off\")\n",
        "  # plt.savefig('gabor.png')\n",
        "  # files.download(\"gabor.png\") \n",
        "  gabor_bef = gabor_aft\n",
        "\n",
        "gabor_bef = gabor2\n",
        "# fig11 = plt.figure(figsize = [10,5])\n",
        "for i in range(8):\n",
        "  # fig11.add_subplot(1,8,i+1)\n",
        "  # gabor_bef = gabor_bef.astype(np.uint8)\n",
        "  gabor_aft = rot(gabor_bef,360/8*(i+1))\n",
        "  # plt.imshow(gabor_aft, cmap = \"gray\")\n",
        "  all_filters[\"gabbu\"].append(np.array(gabor_aft))\n",
        "  # plt.axis(\"off\")\n",
        "  # plt.savefig('gabor.png') \n",
        "  # files.download(\"gabor.png\")\n",
        "  gabor_bef = gabor_aft\n",
        "\n",
        "gabor_bef = gabor3\n",
        "# fig12 = plt.figure(figsize = [10,5])\n",
        "for i in range(8):\n",
        "  # fig12.add_subplot(1,8,i+1)\n",
        "  # gabor_bef = gabor_bef.astype(np.uint8)\n",
        "  gabor_aft = rot(gabor_bef,360/8*(i+1))\n",
        "  # plt.imshow(gabor_aft, cmap = \"gray\")\n",
        "  all_filters[\"gabbu\"].append(np.array(gabor_aft))\n",
        "  # plt.axis(\"off\")\n",
        "  # plt.savefig('gabor.png')\n",
        "  # files.download(\"gabor.png\") \n",
        "  gabor_bef = gabor_aft\n",
        "\n",
        "gabor_bef = gabor4\n",
        "# fig13 = plt.figure(figsize = [10,5])\n",
        "for i in range(8):\n",
        "  # fig13.add_subplot(1,8,i+1)\n",
        "  # gabor_bef = gabor_bef.astype(np.uint8)\n",
        "  gabor_aft = rot(gabor_bef,360/8*(i+1))\n",
        "  # plt.imshow(gabor_aft, cmap = \"gray\")\n",
        "  all_filters[\"gabbu\"].append(np.array(gabor_aft))\n",
        "  # plt.axis(\"off\")\n",
        "  # plt.savefig('gabor.png')\n",
        "  # files.download(\"gabor.png\") \n",
        "  gabor_bef = gabor_aft\n",
        "\n",
        "print(all_filters[\"gabbu\"][0].shape)\n",
        "print(len(all_filters['gabbu']))\n",
        "print(all_filters['gabbu'][0].shape,all_filters['gabbu'][-1].shape,all_filters['gabbu'][-2].shape)"
      ]
    },
    {
      "cell_type": "code",
      "source": [
        "360/6"
      ],
      "metadata": {
        "colab": {
          "base_uri": "https://localhost:8080/"
        },
        "id": "6b9n1-L1QffL",
        "outputId": "89a06412-0632-4b02-adc2-5139a9be3cab"
      },
      "execution_count": 46,
      "outputs": [
        {
          "output_type": "execute_result",
          "data": {
            "text/plain": [
              "60.0"
            ]
          },
          "metadata": {},
          "execution_count": 46
        }
      ]
    },
    {
      "cell_type": "markdown",
      "metadata": {
        "id": "VhZSwN8W4zj4"
      },
      "source": [
        "1. Generate Half-disk masks\n",
        "2. Display all the Half-disk masks and save image as HDMasks.png,\n",
        "3. use command \"cv2.imwrite(...)\""
      ]
    },
    {
      "cell_type": "code",
      "execution_count": 47,
      "metadata": {
        "id": "H43aTHdD4zj4",
        "colab": {
          "base_uri": "https://localhost:8080/",
          "height": 283
        },
        "outputId": "fa1c7272-4783-44a2-93d3-5cf87d99490f"
      },
      "outputs": [
        {
          "output_type": "execute_result",
          "data": {
            "text/plain": [
              "<matplotlib.image.AxesImage at 0x7fe73fef2490>"
            ]
          },
          "metadata": {},
          "execution_count": 47
        },
        {
          "output_type": "display_data",
          "data": {
            "text/plain": [
              "<Figure size 432x288 with 1 Axes>"
            ],
            "image/png": "[encoded data removed]"
          },
          "metadata": {
            "needs_background": "light"
          }
        }
      ],
      "source": [
        "def create_circular_mask(h, w, center=None, radius=None):\n",
        "\n",
        "    if center is None: # use the middle of the image\n",
        "        center = (int(w/2), int(h/2))\n",
        "    if radius is None: # use the smallest distance between the center and image walls\n",
        "        radius = min(center[0], center[1], w-center[0], h-center[1])\n",
        "\n",
        "    Y, X = np.ogrid[:h/2, :w]\n",
        "    dist_from_center = np.sqrt((X - center[0])**2 + (Y-center[1])**2)\n",
        "\n",
        "    mask = dist_from_center <= radius\n",
        "    return mask\n",
        "temp = np.zeros((20,20))\n",
        "circ = create_circular_mask(20,20,(20/2,20/2))\n",
        "circ = np.resize(circ, (20,20))\n",
        "circ[10:,:] = 0 \n",
        "circ = circ.astype(np.uint8)\n",
        "circ1 = rot(circ, 90)\n",
        "temp[10:,:] = 1\n",
        "\n",
        "plt.imshow(circ, cmap = \"gray\")\n",
        "# half_c = np.logical_and(temp,circ)\n",
        "# plt.imshow(temp, cmap = \"gray\")"
      ]
    },
    {
      "cell_type": "code",
      "source": [
        "fig = plt.figure()\n",
        "circ_bef = circ1\n",
        "Half_Disk_filters=defaultdict()\n",
        "Half_Disk_filters[\"hd\"] = []\n",
        "for i in range(8):\n",
        "  fig.add_subplot(4,2,i+1)\n",
        "  circ_bef = circ_bef.astype(np.uint8)\n",
        "  circ_aft = rot(circ_bef,90/8*(i+1))\n",
        "  plt.imshow(circ_aft, cmap = \"gray\")\n",
        "  Half_Disk_filters[\"hd\"].append(np.array(circ_aft))\n",
        "  plt.axis(\"off\")\n",
        "  circ_bef = circ_aft\n",
        "\n",
        "fig1 = plt.figure()\n",
        "sq_bef = temp\n",
        "for i in range(6):\n",
        "  fig1.add_subplot(3,3,i+1)\n",
        "  sq_bef = sq_bef.astype(np.uint8)\n",
        "  sq_aft = rot(sq_bef,90/6*(i+1))\n",
        "  plt.imshow(sq_aft, cmap = \"gray\")\n",
        "  Half_Disk_filters[\"hd\"].append(np.array(sq_aft))\n",
        "  plt.axis(\"off\")\n",
        "  sq_bef = sq_aft\n",
        "\n",
        "print(Half_Disk_filters[\"hd\"][0].shape)\n",
        "print(len(Half_Disk_filters['hd']))\n",
        "print(Half_Disk_filters['hd'][0].shape,Half_Disk_filters['hd'][-1].shape,Half_Disk_filters['hd'][-2].shape)"
      ],
      "metadata": {
        "colab": {
          "base_uri": "https://localhost:8080/",
          "height": 458
        },
        "id": "H-A1qpwA95OA",
        "outputId": "c756926f-6340-489e-e639-3bf67653c08f"
      },
      "execution_count": 48,
      "outputs": [
        {
          "output_type": "stream",
          "name": "stdout",
          "text": [
            "(20, 20)\n",
            "14\n",
            "(20, 20) (20, 20) (20, 20)\n"
          ]
        },
        {
          "output_type": "display_data",
          "data": {
            "text/plain": [
              "<Figure size 432x288 with 8 Axes>"
            ],
            "image/png": "[encoded data removed]"
          },
          "metadata": {
            "needs_background": "light"
          }
        },
        {
          "output_type": "display_data",
          "data": {
            "text/plain": [
              "<Figure size 432x288 with 6 Axes>"
            ],
            "image/png": "[encoded data removed]"
          },
          "metadata": {
            "needs_background": "light"
          }
        }
      ]
    },
    {
      "cell_type": "code",
      "source": [
        "rightFilters = np.zeros((20,20,14))\n",
        "for i in range(rightFilters.shape[2]):\n",
        "  rightFilters[:,:,i] = Half_Disk_filters[\"hd\"][i]\n",
        "\n",
        "print(rightFilters.shape)"
      ],
      "metadata": {
        "colab": {
          "base_uri": "https://localhost:8080/"
        },
        "id": "-koXPmBVavKE",
        "outputId": "a874b13b-e7a5-4a5a-c43d-5c66ca21629b"
      },
      "execution_count": 49,
      "outputs": [
        {
          "output_type": "stream",
          "name": "stdout",
          "text": [
            "(20, 20, 14)\n"
          ]
        }
      ]
    },
    {
      "cell_type": "code",
      "source": [
        "plt.imshow(rightFilters[:,:,4])\n",
        "leftFilters = np.zeros((20,20,14))\n",
        "for i in range(rightFilters.shape[2]):\n",
        "  leftFilters[:,:,i] = np.flip(rightFilters[:,:,i])\n",
        "  Half_Disk_filters[\"hd\"].append(leftFilters[:,:,i])\n",
        "print(leftFilters.shape)\n",
        "\n"
      ],
      "metadata": {
        "colab": {
          "base_uri": "https://localhost:8080/",
          "height": 283
        },
        "id": "BvxoWxO2bmFR",
        "outputId": "ad0db621-4be9-4a22-d9ab-d65db20bf9ed"
      },
      "execution_count": 50,
      "outputs": [
        {
          "output_type": "stream",
          "name": "stdout",
          "text": [
            "(20, 20, 14)\n"
          ]
        },
        {
          "output_type": "display_data",
          "data": {
            "text/plain": [
              "<Figure size 432x288 with 1 Axes>"
            ],
            "image/png": "[encoded data removed]"
          },
          "metadata": {
            "needs_background": "light"
          }
        }
      ]
    },
    {
      "cell_type": "code",
      "source": [
        "plt.imshow(leftFilters[:,:,4])"
      ],
      "metadata": {
        "colab": {
          "base_uri": "https://localhost:8080/",
          "height": 283
        },
        "id": "i7OvPu97cZFd",
        "outputId": "3d8be132-376c-46fd-c1eb-9d6e219b97a1"
      },
      "execution_count": 51,
      "outputs": [
        {
          "output_type": "execute_result",
          "data": {
            "text/plain": [
              "<matplotlib.image.AxesImage at 0x7fe73fe78990>"
            ]
          },
          "metadata": {},
          "execution_count": 51
        },
        {
          "output_type": "display_data",
          "data": {
            "text/plain": [
              "<Figure size 432x288 with 1 Axes>"
            ],
            "image/png": "[encoded data removed]"
          },
          "metadata": {
            "needs_background": "light"
          }
        }
      ]
    },
    {
      "cell_type": "markdown",
      "metadata": {
        "id": "VsO2z2ub4zj5"
      },
      "source": [
        "(1. Generate Texton Map\n",
        "2. Filter image using oriented gaussian filter bank\n"
      ]
    },
    {
      "cell_type": "code",
      "execution_count": 52,
      "metadata": {
        "id": "C-jtngqU4zj5",
        "colab": {
          "base_uri": "https://localhost:8080/",
          "height": 374
        },
        "outputId": "c4ab905e-8c76-43e0-aad5-06ec427252d5"
      },
      "outputs": [
        {
          "output_type": "stream",
          "name": "stdout",
          "text": [
            "<class 'numpy.ndarray'>\n",
            "(321, 481)\n"
          ]
        },
        {
          "output_type": "display_data",
          "data": {
            "text/plain": [
              "<PIL.Image.Image image mode=L size=481x321 at 0x7FE73FACB290>"
            ],
            "image/png": "[encoded data removed]"
          },
          "metadata": {}
        }
      ],
      "source": [
        "from sklearn.cluster import KMeans\n",
        "ron = cv2.imread(\"9.jpg\")\n",
        "print(type(ron))\n",
        "# N_c = 64\n",
        "np.random.seed(0)\n",
        "rong = cv2.cvtColor(ron, cv2.COLOR_RGB2GRAY)\n",
        "print(rong.shape)\n",
        "cv2_imshow(rong)\n",
        "filtered_img = np.zeros((321,481,140))\n",
        "counter = 0\n",
        "for keys in all_filters:\n",
        "  for i in range(len(all_filters[keys])):\n",
        "    filtered_img[:,:,counter] = cv2.filter2D(rong, -1, all_filters[keys][i] )\n",
        "    counter = counter + 1\n",
        "\n"
      ]
    },
    {
      "cell_type": "code",
      "source": [
        "filtered_img.shape\n",
        "cv2_imshow(filtered_img[:,:,1])\n",
        "filtered_data = np.reshape(filtered_img, (321*481,140))\n",
        "cv2_imshow(filtered_data[:,:])\n",
        "kmeans = KMeans(n_clusters=64, random_state=0).fit(filtered_data)\n",
        "texton = kmeans.predict(filtered_data)\n"
      ],
      "metadata": {
        "colab": {
          "base_uri": "https://localhost:8080/",
          "height": 338
        },
        "id": "ufOu-Ihb6exf",
        "outputId": "ef577174-d44d-47a9-8311-31594dbb88e1"
      },
      "execution_count": null,
      "outputs": [
        {
          "output_type": "display_data",
          "data": {
            "text/plain": [
              "<PIL.Image.Image image mode=L size=481x321 at 0x7FE73FAA3590>"
            ],
            "image/png": "[encoded data removed]"
          },
          "metadata": {}
        }
      ]
    },
    {
      "cell_type": "code",
      "source": [
        "import pandas as pd\n",
        "tx = pd.Series(texton)\n",
        "print(tx.unique())\n",
        "print(len(tx.unique()))\n",
        "print(texton.shape)"
      ],
      "metadata": {
        "id": "2uaOQzZK2RKZ"
      },
      "execution_count": null,
      "outputs": []
    },
    {
      "cell_type": "code",
      "source": [
        "# cv2_imshow(filtered_img[:,:,139])\n",
        "texton= np.reshape(texton, (321,481))\n",
        "cv2_imshow(texton)\n",
        "print(texton)"
      ],
      "metadata": {
        "id": "mTOGSG3l2NYa"
      },
      "execution_count": null,
      "outputs": []
    },
    {
      "cell_type": "markdown",
      "metadata": {
        "id": "ifGTkHv84zj5"
      },
      "source": [
        "1. Generate texture ID's using K-means clustering\n",
        "2. Display texton map and save image as TextonMap_ImageName.png,\n",
        "3. use command \"cv2.imwrite('...)\"\n"
      ]
    },
    {
      "cell_type": "code",
      "execution_count": null,
      "metadata": {
        "id": "Uhd-eznB4zj5"
      },
      "outputs": [],
      "source": [
        "Half_Disk_output = np.zeros((321,481,28))\n",
        "counter1 = 0\n",
        "for i in range(len(Half_Disk_filters[\"hd\"])):\n",
        "    Half_Disk_output[:,:,counter1] = cv2.filter2D(texton, -1, Half_Disk_filters[\"hd\"][i])\n",
        "    counter1 = counter1 + 1\n",
        "\n",
        "for i in range(Half_Disk_output.shape[2]):\n",
        "  # cv2_imshow(Half_Disk_output[:,:,i])\n",
        "  cv2.waitKey(100)\n",
        "  cv2.destroyAllWindows()"
      ]
    },
    {
      "cell_type": "markdown",
      "metadata": {
        "id": "KhkWsyiV4zj6"
      },
      "source": [
        "1. Generate Texton Gradient (Tg)\n",
        "2. Perform Chi-square calculation on Texton Map\n",
        "3. Display Tg and save image as Tg_ImageName.png,\n",
        "4. use command \"cv2.imwrite(...)\"\n"
      ]
    },
    {
      "cell_type": "code",
      "execution_count": null,
      "metadata": {
        "id": "mXPbc8FE4zj6"
      },
      "outputs": [],
      "source": [
        "rong_flatten = np.reshape(rong, (321*481,1))\n",
        "kmeans_B = KMeans(n_clusters=16, random_state=0).fit(rong_flatten)\n",
        "BrightnessMap = kmeans_B.predict(rong_flatten)"
      ]
    },
    {
      "cell_type": "code",
      "source": [
        "BrightnessMap = np.reshape(BrightnessMap,(321,481))\n",
        "cv2_imshow(BrightnessMap*10)\n",
        "print(BrightnessMap.shape)\n",
        "cv2_imshow(rong)"
      ],
      "metadata": {
        "id": "dzUroXWI3Ziv"
      },
      "execution_count": null,
      "outputs": []
    },
    {
      "cell_type": "markdown",
      "metadata": {
        "id": "8vrXv0ff4zj6"
      },
      "source": [
        "1. Generate Brightness Map\n",
        "2. Perform brightness binning\n"
      ]
    },
    {
      "cell_type": "code",
      "execution_count": null,
      "metadata": {
        "id": "1_ND-sVC4zj6"
      },
      "outputs": [],
      "source": [
        "ron_flatten = np.reshape(ron, (321*481,3))\n",
        "ron_R = ron[:,:,0]\n",
        "cv2_imshow(ron_R)\n",
        "ronR_flatten = np.reshape(ron_R, (321*481,1))\n",
        "kmeans_R = KMeans(n_clusters=16, random_state=0).fit(ronR_flatten)\n",
        "Red = kmeans_R.predict(ronR_flatten)\n",
        "\n",
        "ron_G = ron[:,:,1]\n",
        "cv2_imshow(ron_G)\n",
        "ronG_flatten = np.reshape(ron_G, (321*481,1))\n",
        "kmeans_G = KMeans(n_clusters=16,max_iter=1000, random_state=5).fit(ronG_flatten)\n",
        "Green = kmeans_R.predict(ronG_flatten)\n",
        "print(np.unique(Green))\n",
        "\n",
        "ron_B = ron[:,:,2]\n",
        "cv2_imshow(ron_B)\n",
        "ronB_flatten = np.reshape(ron_B, (321*481,1))\n",
        "kmeans_B = KMeans(n_clusters=16, random_state=0).fit(ronB_flatten)\n",
        "Blue = kmeans_R.predict(ronB_flatten)"
      ]
    },
    {
      "cell_type": "code",
      "source": [
        "Half_Disk_output_bightness = np.zeros((321,481,28))\n",
        "counter1 = 0\n",
        "for i in range(len(Half_Disk_filters[\"hd\"])):\n",
        "    Half_Disk_output_bightness[:,:,counter1] = cv2.filter2D(BrightnessMap, -1, Half_Disk_filters[\"hd\"][i])\n",
        "    counter1 = counter1 + 1\n",
        "\n",
        "for i in range(Half_Disk_output_bightness.shape[2]):\n",
        "  cv2_imshow(Half_Disk_output_bightness[:,:,i]/10)\n",
        "  cv2.waitKey(100)\n",
        "  cv2.destroyAllWindows()"
      ],
      "metadata": {
        "id": "QJdTAUmj4yC_"
      },
      "execution_count": null,
      "outputs": []
    },
    {
      "cell_type": "markdown",
      "metadata": {
        "id": "SKOitvW34zj6"
      },
      "source": [
        "1. Generate Brightness Gradient (Bg)\n",
        "2. Perform Chi-square calculation on Brightness Map\n",
        "3. Display Bg and save image as Bg_ImageName.png,\n",
        "4. use command \"cv2.imwrite(...)\"\n",
        "\n"
      ]
    },
    {
      "cell_type": "code",
      "execution_count": null,
      "metadata": {
        "id": "hCOD81PA4zj7"
      },
      "outputs": [],
      "source": [
        "ColorMap_Red = np.reshape(Red,(321,481))\n",
        "print(np.unique(ColorMap_Red))\n",
        "# cv2_imshow(ColorMap_Red)\n",
        "# print(ColorMap_Red.shape)\n",
        "\n",
        "ColorMap_Green = np.reshape(Green,(321,481))\n",
        "print(np.unique(ColorMap_Green))\n",
        "# cv2_imshow(ColorMap_Green)\n",
        "# print(ColorMap_Green.shape)\n",
        "\n",
        "ColorMap_Blue = np.reshape(Blue,(321,481))\n",
        "print(np.unique(ColorMap_Blue))\n",
        "# print(ColorMap_Blue.shape)\n",
        "# cv2_imshow(ColorMap_Blue)\n",
        "\n"
      ]
    },
    {
      "cell_type": "markdown",
      "metadata": {
        "id": "NHJXA-HM4zj7"
      },
      "source": [
        "1. Generate Color Map\n",
        "2. Perform color binning or clustering\n"
      ]
    },
    {
      "cell_type": "code",
      "execution_count": null,
      "metadata": {
        "id": "0m2LGULC4zj7"
      },
      "outputs": [],
      "source": [
        "ColorMap_RGB = np.zeros((321,481,3))\n",
        "ColorMap_RGB[:,:,0] = ColorMap_Red\n",
        "ColorMap_RGB[:,:,1] = ColorMap_Green\n",
        "ColorMap_RGB[:,:,2] = ColorMap_Blue\n",
        "print(ColorMap_RGB.shape)\n",
        "cv2_imshow(ColorMap_RGB*10)"
      ]
    },
    {
      "cell_type": "markdown",
      "metadata": {
        "id": "SO27XPii4zj7"
      },
      "source": [
        "\n",
        "\n",
        "\n",
        "1. Generate Color Gradient (Cg)\n",
        "2. Perform Chi-square calculation on Color Map\n",
        "3. Display Cg and save image as Cg_ImageName.png,\n",
        "4. use command \"cv2.imwrite(...)\"\n",
        "\n"
      ]
    },
    {
      "cell_type": "code",
      "execution_count": null,
      "metadata": {
        "id": "t_BnNy7s4zj7"
      },
      "outputs": [],
      "source": [
        "Half_Disk_output_Red = np.zeros((321,481,28))\n",
        "Half_Disk_output_Green = np.zeros((321,481,28))\n",
        "Half_Disk_output_Blue = np.zeros((321,481,28))\n",
        "counter = 0\n",
        "for i in range(len(Half_Disk_filters[\"hd\"])):\n",
        "    Half_Disk_output_Red[:,:,counter] = cv2.filter2D(ColorMap_Red, -1, Half_Disk_filters[\"hd\"][i])\n",
        "    Half_Disk_output_Green[:,:,counter] = cv2.filter2D(ColorMap_Green, -1, Half_Disk_filters[\"hd\"][i])\n",
        "    Half_Disk_output_Blue[:,:,counter] = cv2.filter2D(ColorMap_Blue, -1, Half_Disk_filters[\"hd\"][i])\n",
        "    counter = counter + 1\n",
        "\n",
        "\n",
        "\n",
        "cv2_imshow(Half_Disk_output_Green[:,:,27]/100)\n",
        "\n",
        "# for i in range(28):\n",
        "#   cv2_imshow(Half_Disk_output_Red[:,:,i])\n",
        "#   cv2_imshow(Half_Disk_output_Green[:,:,i])\n",
        "#   cv2_imshow(Half_Disk_output_Blue[:,:,i])\n",
        "#   cv2.waitKey(100)\n",
        "#   cv2.destroyAllWindows()"
      ]
    },
    {
      "cell_type": "code",
      "source": [
        "from numpy.ma import masked_where\n",
        "# cv2_imshow(texton)\n",
        "X_sq = texton*0\n",
        "g = np.zeros((321,481,14))\n",
        "h = np.zeros((321,481,14))\n",
        "X_distance_Texton = np.zeros((321,481,14))\n",
        "X_distance_Brightness = np.zeros((321,481,14))\n",
        "X_distance_Red = np.zeros((321,481,14))\n",
        "X_distance_Green = np.zeros((321,481,14))\n",
        "X_distance_Blue = np.zeros((321,481,14))\n",
        "\n",
        "for j in range(14):\n",
        "  for i in range(64):\n",
        "    temp =  masked_where(texton == i, texton)\n",
        "    temp = np.ma.getmask(temp)\n",
        "    g = cv2.filter2D(np.float32(temp),-1,rightFilters[:,:,j])\n",
        "    h = cv2.filter2D(np.float32(temp),-1,leftFilters[:,:,j])\n",
        "    X_distance_Texton[:,:,j] = X_distance_Texton[:,:,j] + (0.5* ((g - h)**2)/np.sum(g+h))\n",
        "\n",
        "for j in range(14):\n",
        "  for i in range(16):\n",
        "    temp =  masked_where(BrightnessMap == i, BrightnessMap)\n",
        "    temp = np.ma.getmask(temp)\n",
        "    # print(temp)\n",
        "    g = cv2.filter2D(np.float32(temp),-1,rightFilters[:,:,j])\n",
        "    h = cv2.filter2D(np.float32(temp),-1,leftFilters[:,:,j])\n",
        "    # print(g)\n",
        "    X_distance_Brightness[:,:,j] = X_distance_Brightness[:,:,j] + (0.5* ((g - h)**2)/np.sum(g+h))\n",
        "\n",
        "\n",
        "  # print(f\" and its dimensions are {X_distance_Brightness.shape}\")\n",
        "#  X distance for every Half Disk Filter is {X_distance}\n",
        "\n",
        "# print(temp.shape) \n",
        "\n",
        "# print(a.shape)\n",
        "# cv2_imshow(a)"
      ],
      "metadata": {
        "id": "y-Jt4FKgdoho"
      },
      "execution_count": null,
      "outputs": []
    },
    {
      "cell_type": "code",
      "source": [
        "cv2_imshow(X_distance_Texton[:,:,5]*10000)"
      ],
      "metadata": {
        "id": "-TC5JJk1dp2P"
      },
      "execution_count": null,
      "outputs": []
    },
    {
      "cell_type": "code",
      "source": [
        "for j in range(14):\n",
        "  for i in range(15):\n",
        "    temp =  masked_where(ColorMap_Red == i, ColorMap_Red)\n",
        "    temp = np.ma.getmask(temp)\n",
        "    # print(temp.shape)\n",
        "    g = cv2.filter2D(np.float32(temp),-1,rightFilters[:,:,j])\n",
        "    h = cv2.filter2D(np.float32(temp),-1,leftFilters[:,:,j])\n",
        "    X_distance_Red[:,:,j] = X_distance_Red[:,:,j] + (0.5* ((g - h)**2)/np.sum(g+h))\n",
        "    \n",
        "    # print(i)\n",
        "    temp1 =  masked_where(ColorMap_Green == i+1, ColorMap_Green)\n",
        "    # print(temp1)\n",
        "    temp1 = np.ma.getmask(temp1)\n",
        "    # print(ColorMap_Green)\n",
        "    g = cv2.filter2D(np.float32(temp1),-1,rightFilters[:,:,j])\n",
        "    h = cv2.filter2D(np.float32(temp1),-1,leftFilters[:,:,j])\n",
        "    X_distance_Green[:,:,j] = X_distance_Green[:,:,j] + (0.5* ((g - h)**2)/np.sum(g+h))\n",
        "\n",
        "    temp2 =  masked_where(ColorMap_Blue == i, ColorMap_Blue)\n",
        "    temp2 = np.ma.getmask(temp2)\n",
        "\n",
        "    g = cv2.filter2D(np.float32(temp2),-1,rightFilters[:,:,j])\n",
        "    h = cv2.filter2D(np.float32(temp2),-1,leftFilters[:,:,j])\n",
        "    X_distance_Blue[:,:,j] = X_distance_Blue[:,:,j] + (0.5* ((g - h)**2)/np.sum(g+h))"
      ],
      "metadata": {
        "id": "Yn_ZSv1oiKD9"
      },
      "execution_count": null,
      "outputs": []
    },
    {
      "cell_type": "code",
      "source": [
        "print(X_distance_Red.shape)\n",
        "print(X_distance_Blue.shape)\n",
        "print(X_distance_Green.shape)\n",
        "d = np.ones((3,3))\n",
        "p = np.ones((3,3))\n",
        "print(np.sum(d+p))\n",
        "# print(rightFilters.shape)"
      ],
      "metadata": {
        "id": "cbCBWh59RVNP"
      },
      "execution_count": null,
      "outputs": []
    },
    {
      "cell_type": "code",
      "source": [
        "SobelEdgeDetection = cv2.imread(\"91.png\")\n",
        "SobelEdgeDetection_gray = cv2.cvtColor(SobelEdgeDetection, cv2.COLOR_BGR2GRAY)\n",
        "# SobelEdgeDetection_gray = np.reshape(SobelEdgeDetection_gray, (321,481,1))\n",
        "SobelEdgeDetection = 5*SobelEdgeDetection"
      ],
      "metadata": {
        "id": "vOwTAWzBe8XM"
      },
      "execution_count": null,
      "outputs": []
    },
    {
      "cell_type": "markdown",
      "metadata": {
        "id": "nmy__th24zj7"
      },
      "source": [
        "\n",
        "1. Read Sobel Baseline\n",
        "2. use command \"cv2.imread(...)\"\n"
      ]
    },
    {
      "cell_type": "code",
      "execution_count": null,
      "metadata": {
        "id": "vapObHsb4zj7"
      },
      "outputs": [],
      "source": [
        "CannyEdgeDetection = cv2.imread(\"92.png\")\n",
        "CannyEdgeDetection_gray = cv2.cvtColor(CannyEdgeDetection, cv2.COLOR_BGR2GRAY)\n",
        "# CannyEdgeDetection_gray = np.reshape(CannyEdgeDetection_gray, (321,481,1))\n",
        "CannyEdgeDetection = 5*CannyEdgeDetection\n",
        "print(CannyEdgeDetection_gray.shape)"
      ]
    },
    {
      "cell_type": "markdown",
      "metadata": {
        "id": "nMm0qhf-4zj8"
      },
      "source": [
        "\n",
        "\n",
        "\n",
        "1. Read Canny Baseline\n",
        "2. use command \"cv2.imread(...)\"\n",
        "\n"
      ]
    },
    {
      "cell_type": "code",
      "execution_count": null,
      "metadata": {
        "id": "9ZcgUAqK4zj8"
      },
      "outputs": [],
      "source": [
        "Add = SobelEdgeDetection + CannyEdgeDetection\n",
        "Add_gray = SobelEdgeDetection_gray + CannyEdgeDetection_gray"
      ]
    },
    {
      "cell_type": "markdown",
      "metadata": {
        "id": "Y1Ut3_c74zj8"
      },
      "source": [
        "\n",
        "\n",
        "1. Combine responses to get pb-lite output\n",
        "2. Display PbLite and save image as PbLite_ImageName.png\n",
        "3. use command \"cv2.imwrite(...)\"\n",
        "\n"
      ]
    },
    {
      "cell_type": "code",
      "execution_count": null,
      "metadata": {
        "id": "TpC2Z26r4zj8"
      },
      "outputs": [],
      "source": [
        "X_distance_Texton_avg = np.mean(X_distance_Texton, axis = 2)\n",
        "X_distance_Brightness_avg = np.mean(X_distance_Brightness, axis = 2)\n",
        "X_distance_Red_avg = np.mean(X_distance_Red, axis = 2)\n",
        "X_distance_Green_avg = np.mean(X_distance_Green, axis = 2)\n",
        "X_distance_Blue_avg = np.mean(X_distance_Blue, axis = 2)\n",
        "print(X_distance_Texton.shape)\n",
        "firstVariable = (X_distance_Texton_avg + X_distance_Brightness_avg + X_distance_Red_avg + X_distance_Green_avg + X_distance_Blue_avg)/5\n",
        "print(X_distance_Red.shape)\n",
        "PBLite = np.multiply(firstVariable, Add_gray)*300\n",
        "cv2_imshow(PBLite)"
      ]
    },
    {
      "cell_type": "markdown",
      "metadata": {
        "id": "e2aeH7uq8qR7"
      },
      "source": [
        "## Phase 2"
      ]
    },
    {
      "cell_type": "markdown",
      "metadata": {
        "id": "-4iWkcHsItB0"
      },
      "source": [
        "### Neural Network Construction"
      ]
    },
    {
      "cell_type": "code",
      "execution_count": null,
      "metadata": {
        "id": "jGCHa0pfIss-"
      },
      "outputs": [],
      "source": [
        "import torch\n",
        "from torch.nn.modules.dropout import Dropout2d\n",
        "import torch.nn as nn\n",
        "import torch.nn.functional as F\n",
        "import numpy as np\n",
        "\n",
        "device = torch.device('cuda:0' if torch.cuda.is_available() else 'cpu')\n",
        "\n",
        "def accuracy(outputs, labels):\n",
        "    _, preds = torch.max(outputs, dim=1)\n",
        "    return torch.tensor(torch.sum(preds == labels).item() / len(preds))\n",
        "\n",
        "def loss_fn(out, labels):\n",
        "    ###############################################\n",
        "    # Fill your loss function of choice here!\n",
        "    ###############################################\n",
        "    loss_nn = nn.CrossEntropyLoss()\n",
        "    loss = loss_nn(out, labels)\n",
        "    return loss\n",
        "\n",
        "class ImageClassificationBase(nn.Module):\n",
        "    def training_step(self, batch):\n",
        "        images, labels = batch \n",
        "        images = images.to(device)\n",
        "        labels = labels.to(device)\n",
        "        out = self(images)                  # Generate predictions\n",
        "        loss = loss_fn(out, labels) # Calculate loss\n",
        "        return loss\n",
        "    \n",
        "    def validation_step(self, batch):\n",
        "        images, labels = batch \n",
        "        images = images.to(device)\n",
        "        labels = labels.to(device)\n",
        "        out = self(images)                    # Generate predictions\n",
        "        loss = loss_fn(out, labels)   # Calculate loss\n",
        "        acc = accuracy(out, labels)           # Calculate accuracy\n",
        "        return {'loss': loss.detach(), 'acc': acc}\n",
        "        \n",
        "    def validation_epoch_end(self, outputs):\n",
        "        batch_losses = [x['loss'] for x in outputs]\n",
        "        epoch_loss = torch.stack(batch_losses).mean()   # Combine losses\n",
        "        batch_accs = [x['acc'] for x in outputs]\n",
        "        epoch_acc = torch.stack(batch_accs).mean()      # Combine accuracies\n",
        "        return {'loss': epoch_loss.item(), 'acc': epoch_acc.item()}\n",
        "    \n",
        "    def epoch_end(self, epoch, result):\n",
        "        print(\"Epoch [{}], loss: {:.4f}, acc: {:.4f}\".format(epoch, result['loss'], result['acc']))\n",
        "\n",
        "\n",
        "\n",
        "class CIFAR10Model(ImageClassificationBase):\n",
        "  def __init__(self, InputSize, OutputSize):\n",
        "      \"\"\"\n",
        "      Inputs: \n",
        "      InputSize - Size of the Input\n",
        "      OutputSize - Size of the Output\n",
        "      \"\"\"\n",
        "      #############################\n",
        "      # Fill your network initialization of choice here!\n",
        "      #############################\n",
        "      super(CIFAR10Model, self).__init__()\n",
        "      self.CustomNetwork = nn.Sequential(\n",
        "          nn.Conv2d(3, 32, kernel_size=3, padding=1),\n",
        "          nn.ReLU(),\n",
        "          nn.Conv2d(32, 64, kernel_size=3, stride=1, padding=1),\n",
        "          nn.ReLU(),\n",
        "          nn.MaxPool2d(2, 2), # 64 x 16 x 16\n",
        "          nn.BatchNorm2d(64),\n",
        "\n",
        "          nn.Conv2d(64, 64, kernel_size=3, stride=1, padding=1),\n",
        "          nn.ReLU(),\n",
        "          nn.Conv2d(64, 128, kernel_size=3, stride=1, padding=1),\n",
        "          nn.ReLU(),\n",
        "          nn.MaxPool2d(2, 2), # 128 x 8 x 8\n",
        "          nn.BatchNorm2d(128),\n",
        "\n",
        "          nn.Conv2d(128, 128, kernel_size=3, stride=1, padding=1),\n",
        "          nn.ReLU(),\n",
        "          nn.Conv2d(128, 128, kernel_size=3, stride=1, padding=1),\n",
        "          nn.ReLU(),\n",
        "          nn.Conv2d(128, 256, kernel_size=3, stride=1, padding=1),\n",
        "          nn.ReLU(),\n",
        "          nn.MaxPool2d(2, 2), #  256 x 4 x 4\n",
        "          nn.BatchNorm2d(256),\n",
        "\n",
        "          nn.Flatten(), \n",
        "          nn.Linear(256*4*4, 256*4),\n",
        "          nn.ReLU(),\n",
        "          nn.Dropout(p=0.3),\n",
        "          nn.Linear(1024, 512),\n",
        "          nn.ReLU(),\n",
        "          nn.Dropout(p=0.1),\n",
        "          nn.Linear(512, 10)\n",
        "        )\n",
        "      \n",
        "      \n",
        "  def forward(self, xb):\n",
        "      \"\"\"\n",
        "      Input:\n",
        "      xb is a MiniBatch of the current image\n",
        "      Outputs:\n",
        "      out - output of the network\n",
        "      \"\"\"\n",
        "      #############################\n",
        "      # Fill your network structure of choice here!\n",
        "      #############################\n",
        "      out = self.CustomNetwork(xb)\n",
        "      return out\n",
        "      "
      ]
    },
    {
      "cell_type": "code",
      "execution_count": null,
      "metadata": {
        "id": "2SPck2oRdL5j"
      },
      "outputs": [],
      "source": [
        "import time\n",
        "import glob\n",
        "import os\n",
        "import sys\n",
        "import matplotlib.pyplot as plt\n",
        "import numpy as np\n",
        "\n",
        "def tic():\n",
        "    \"\"\"\n",
        "    Function to start timer\n",
        "    Tries to mimic tic() toc() in MATLAB\n",
        "    \"\"\"\n",
        "    StartTime = time.time()\n",
        "    return StartTime\n",
        "\n",
        "def toc(StartTime):\n",
        "    \"\"\"\n",
        "    Function to stop timer\n",
        "    Tries to mimic tic() toc() in MATLAB\n",
        "    \"\"\"\n",
        "    return time.time() - StartTime\n",
        "\n",
        "def FindLatestModel(CheckPointPath):\n",
        "    \"\"\"\n",
        "    Finds Latest Model in CheckPointPath\n",
        "    Inputs:\n",
        "    CheckPointPath - Path where you have stored checkpoints\n",
        "    Outputs:\n",
        "    LatestFile - File Name of the latest checkpoint\n",
        "    \"\"\"\n",
        "    FileList = glob.glob(CheckPointPath + '*.ckpt.index') # * means all if need specific format then *.csv\n",
        "    LatestFile = max(FileList, key=os.path.getctime)\n",
        "    # Strip everything else except needed information\n",
        "    LatestFile = LatestFile.replace(CheckPointPath, '')\n",
        "    LatestFile = LatestFile.replace('.ckpt.index', '')\n",
        "    return LatestFile\n",
        "\n",
        "\n",
        "def convertToOneHot(vector, NumClasses):\n",
        "    \"\"\"\n",
        "    Inputs:\n",
        "    vector - vector of argmax indexes\n",
        "    NumClasses - Number of classes\n",
        "    \"\"\"\n",
        "    return np.equal.outer(vector, np.arange(NumClasses)).astype(np.float)"
      ]
    },
    {
      "cell_type": "markdown",
      "metadata": {
        "id": "A04kYJ_rJxEP"
      },
      "source": [
        "### Train your neural network"
      ]
    },
    {
      "cell_type": "code",
      "execution_count": null,
      "metadata": {
        "collapsed": true,
        "id": "hcGOFRE2JueB"
      },
      "outputs": [],
      "source": [
        "import torch\n",
        "import torchvision\n",
        "from torch.utils.tensorboard import SummaryWriter\n",
        "from torchvision import datasets, transforms\n",
        "from torch.optim import AdamW\n",
        "from torchvision.datasets import CIFAR10\n",
        "import cv2\n",
        "import sys\n",
        "import os\n",
        "import numpy as np\n",
        "import random\n",
        "import skimage\n",
        "import PIL\n",
        "import os\n",
        "import glob\n",
        "import random\n",
        "from skimage import data, exposure, img_as_float\n",
        "import matplotlib.pyplot as plt\n",
        "import numpy as np\n",
        "import time\n",
        "from torchvision.transforms import ToTensor\n",
        "import argparse\n",
        "import shutil\n",
        "import string\n",
        "from termcolor import colored, cprint\n",
        "import math as m\n",
        "from tqdm.notebook import tqdm\n",
        "from torchsummary import summary\n",
        "\n",
        "def SetupAll(CheckPointPath):\n",
        "    \"\"\"\n",
        "    Inputs: \n",
        "    CheckPointPath - Path to save checkpoints/model\n",
        "    Outputs:\n",
        "    SaveCheckPoint - Save checkpoint every SaveCheckPoint iteration in every epoch, checkpoint saved automatically after every epoch\n",
        "    ImageSize - Size of the image\n",
        "    NumTrainSamples - length(Train)\n",
        "    TrainLabels - Labels corresponding to Train\n",
        "    NumClasses - Number of classes\n",
        "    \"\"\"\n",
        "    # Read and Setup Labels\n",
        "    LabelsPathTrain = '/content/data/TxtFiles/LabelsTrain.txt'\n",
        "    TrainLabels = ReadLabels(LabelsPathTrain)\n",
        "\n",
        "    # If CheckPointPath doesn't exist make the path\n",
        "    if(not (os.path.isdir(CheckPointPath))):\n",
        "       os.makedirs(CheckPointPath)\n",
        "        \n",
        "    # Save checkpoint every SaveCheckPoint iteration in every epoch, checkpoint saved automatically after every epoch\n",
        "    SaveCheckPoint = 100 \n",
        "    \n",
        "    # Image Input Shape\n",
        "    ImageSize = [32, 32, 3]\n",
        "    NumTrainSamples = len(TrainSet)\n",
        "\n",
        "    # Number of classes\n",
        "    NumClasses = 10\n",
        "\n",
        "    return SaveCheckPoint, ImageSize, NumTrainSamples, TrainLabels, NumClasses\n",
        "\n",
        "\n",
        "def ReadLabels(LabelsPathTrain):\n",
        "    if(not (os.path.isfile(LabelsPathTrain))):\n",
        "        print('ERROR: Train Labels do not exist in '+LabelsPathTrain)\n",
        "        sys.exit()\n",
        "    else:\n",
        "        TrainLabels = open(LabelsPathTrain, 'r')\n",
        "        TrainLabels = TrainLabels.read()\n",
        "        TrainLabels = map(float, TrainLabels.split())\n",
        "\n",
        "    return TrainLabels\n",
        "    \n",
        "\n",
        "def ReadDirNames(ReadPath):\n",
        "    \"\"\"\n",
        "    Inputs: \n",
        "    ReadPath is the path of the file you want to read\n",
        "    Outputs:\n",
        "    DirNames is the data loaded from /content/data/TxtFiles/DirNames.txt which has full path to all image files without extension\n",
        "    \"\"\"\n",
        "    # Read text files\n",
        "    DirNames = open(ReadPath, 'r')\n",
        "    DirNames = DirNames.read()\n",
        "    DirNames = DirNames.split()\n",
        "    return DirNames\n",
        "\n",
        "    \n",
        "def GenerateBatch(TrainSet, TrainLabels, ImageSize, MiniBatchSize):\n",
        "    \"\"\"\n",
        "    Inputs: \n",
        "    TrainSet - Variable with Subfolder paths to train files\n",
        "    NOTE that Train can be replaced by Val/Test for generating batch corresponding to validation (held-out testing in this case)/testing\n",
        "    TrainLabels - Labels corresponding to Train\n",
        "    NOTE that TrainLabels can be replaced by Val/TestLabels for generating batch corresponding to validation (held-out testing in this case)/testing\n",
        "    ImageSize is the Size of the Image\n",
        "    MiniBatchSize is the size of the MiniBatch\n",
        "   \n",
        "    Outputs:\n",
        "    I1Batch - Batch of images\n",
        "    LabelBatch - Batch of one-hot encoded labels \n",
        "    \"\"\"\n",
        "    I1Batch = []\n",
        "    LabelBatch = []\n",
        "    \n",
        "    ImageNum = 0\n",
        "    while ImageNum < MiniBatchSize:\n",
        "        # Generate random image\n",
        "        RandIdx = random.randint(0, len(TrainSet)-1)\n",
        "        \n",
        "        ImageNum += 1\n",
        "    \t\n",
        "    \t  ##########################################################\n",
        "    \t  # Add any standardization or data augmentation here!\n",
        "    \t  ##########################################################\n",
        "\n",
        "        I1, Label = TrainSet[RandIdx]\n",
        "\n",
        "        # Append All Images and Mask\n",
        "        I1Batch.append(I1)\n",
        "        LabelBatch.append(torch.tensor(Label))\n",
        "        \n",
        "    return torch.stack(I1Batch), torch.stack(LabelBatch)\n",
        "\n",
        "\n",
        "def PrettyPrint(NumEpochs, DivTrain, MiniBatchSize, NumTrainSamples, LatestFile):\n",
        "    \"\"\"\n",
        "    Prints all stats with all arguments\n",
        "    \"\"\"\n",
        "    print('Number of Epochs Training will run for ' + str(NumEpochs))\n",
        "    print('Factor of reduction in training data is ' + str(DivTrain))\n",
        "    print('Mini Batch Size ' + str(MiniBatchSize))\n",
        "    print('Number of Training Images ' + str(NumTrainSamples))\n",
        "    if LatestFile is not None:\n",
        "        print('Loading latest checkpoint with the name ' + LatestFile)              \n",
        "\n",
        "def TrainOperation(TrainLabels, NumTrainSamples, ImageSize,\n",
        "                   NumEpochs, MiniBatchSize, SaveCheckPoint, CheckPointPath,\n",
        "                   DivTrain, LatestFile, TrainSet, LogsPath):\n",
        "    \"\"\"\n",
        "    Inputs: \n",
        "    TrainLabels - Labels corresponding to Train/Test\n",
        "    NumTrainSamples - length(Train)\n",
        "    ImageSize - Size of the image\n",
        "    NumEpochs - Number of passes through the Train data\n",
        "    MiniBatchSize is the size of the MiniBatch\n",
        "    SaveCheckPoint - Save checkpoint every SaveCheckPoint iteration in every epoch, checkpoint saved automatically after every epoch\n",
        "    CheckPointPath - Path to save checkpoints/model\n",
        "    DivTrain - Divide the data by this number for Epoch calculation, use if you have a lot of dataor for debugging code\n",
        "    LatestFile - Latest checkpointfile to continue training\n",
        "    TrainSet - The training dataset\n",
        "    LogsPath - Path to save Tensorboard Logs\n",
        "    Outputs:\n",
        "    Saves Trained network in CheckPointPath and Logs to LogsPath\n",
        "    \"\"\"\n",
        "    # Initialize the model\n",
        "    model = CIFAR10Model(InputSize=3*32*32,OutputSize=10).to(device)\n",
        "    summary(model, (3, 32, 32))\n",
        "    ###############################################\n",
        "    # Fill your optimizer of choice here!\n",
        "    ###############################################\n",
        "    Optimizer = torch.optim.SGD(model.parameters(), 0.01,weight_decay=0.0005,momentum=0.9)\n",
        "    # summary(model, (3, 32, 32))\n",
        "    # Tensorboard\n",
        "    # Create a summary to monitor loss tensor\n",
        "    Writer = SummaryWriter(LogsPath)\n",
        "\n",
        "    if LatestFile is not None:\n",
        "        CheckPoint = torch.load(CheckPointPath + LatestFile + '.ckpt')\n",
        "        # Extract only numbers from the name\n",
        "        StartEpoch = int(''.join(c for c in LatestFile.split('a')[0] if c.isdigit()))\n",
        "        model.load_state_dict(CheckPoint['model_state_dict'])\n",
        "        print('Loaded latest checkpoint with the name ' + LatestFile + '....')\n",
        "    else:\n",
        "        StartEpoch = 0\n",
        "        print('New model initialized....')\n",
        "    epochLoss = [] \n",
        "    epochAcc = []\n",
        "    for Epochs in tqdm(range(StartEpoch, NumEpochs)):\n",
        "        NumIterationsPerEpoch = int(NumTrainSamples/MiniBatchSize/DivTrain)\n",
        "        BatchLoss = []\n",
        "        BatchAcc = [] \n",
        "        for PerEpochCounter in tqdm(range(NumIterationsPerEpoch)):\n",
        "            Batch = GenerateBatch(TrainSet, TrainLabels, ImageSize, MiniBatchSize)\n",
        "            \n",
        "            # Predict output with forward pass\n",
        "            LossThisBatch = model.training_step(Batch)\n",
        "\n",
        "            Optimizer.zero_grad()\n",
        "            LossThisBatch.backward()\n",
        "            Optimizer.step()\n",
        "            BatchLoss.append(LossThisBatch)\n",
        "            # BatchAcc.append()\n",
        "            # Save checkpoint every some SaveCheckPoint's iterations\n",
        "            if PerEpochCounter % SaveCheckPoint == 0:\n",
        "                # Save the Model learnt in this epoch\n",
        "                SaveName =  CheckPointPath + str(Epochs) + 'a' + str(PerEpochCounter) + 'model.ckpt'\n",
        "                \n",
        "                torch.save({'epoch': Epochs,'model_state_dict': model.state_dict(),'optimizer_state_dict': Optimizer.state_dict(),'loss': LossThisBatch}, SaveName)\n",
        "                print('\\n' + SaveName + ' Model Saved...')\n",
        "            \n",
        "            result = model.validation_step(Batch)\n",
        "            model.epoch_end(Epochs*NumIterationsPerEpoch + PerEpochCounter, result)\n",
        "            # Tensorboard\n",
        "            Writer.add_scalar('LossEveryIter', result[\"loss\"], Epochs*NumIterationsPerEpoch + PerEpochCounter)\n",
        "            Writer.add_scalar('Accuracy', result[\"acc\"], Epochs*NumIterationsPerEpoch + PerEpochCounter)\n",
        "            # If you don't flush the tensorboard doesn't update until a lot of iterations!\n",
        "            Writer.flush()\n",
        "\n",
        "        # print(type(BatchLoss))\n",
        "        # avg=np.mean(BatchLoss)\n",
        "        \n",
        "        # epochLoss.append(np.mean(BatchLoss))    \n",
        "        # Save model every epoch\n",
        "        SaveName = CheckPointPath + str(Epochs) + 'model.ckpt'\n",
        "        torch.save({'epoch': Epochs,'model_state_dict': model.state_dict(),'optimizer_state_dict': Optimizer.state_dict(),'loss': LossThisBatch}, SaveName)\n",
        "        print('\\n' + SaveName + ' Model Saved...')\n",
        "\n",
        "\n",
        "        # # plt.plot(np.arange(0,10,1),epochLoss)\n",
        "        # plt.xlabel('Epochs')\n",
        "        # plt.ylabel('Loss')\n",
        "\n",
        "        # plt.savefig('./Training_loss.png')\n",
        "        \n",
        "\n",
        "\n",
        "# Default Hyperparameters\n",
        "NumEpochs = 10\n",
        "TrainSet = torchvision.datasets.CIFAR10(root='./data', train=True,\n",
        "                                        download=True, transform=ToTensor())\n",
        "DivTrain = 1.0\n",
        "MiniBatchSize = 128\n",
        "LoadCheckPoint = 0\n",
        "CheckPointPath = \"/content/Checkpoints/\"\n",
        "LogsPath = \"/content/Logs\"\n",
        "\n",
        "# Setup all needed parameters including file reading\n",
        "SaveCheckPoint, ImageSize, NumTrainSamples, TrainLabels, NumClasses = SetupAll(CheckPointPath)\n",
        "\n",
        "# Find Latest Checkpoint File\n",
        "if LoadCheckPoint==1:\n",
        "    LatestFile = FindLatestModel(CheckPointPath)\n",
        "else:\n",
        "    LatestFile = None\n",
        "\n",
        "# Pretty print stats\n",
        "PrettyPrint(NumEpochs, DivTrain, MiniBatchSize, NumTrainSamples, LatestFile)\n",
        "\n",
        "TrainOperation(TrainLabels, NumTrainSamples, ImageSize,\n",
        "                NumEpochs, MiniBatchSize, SaveCheckPoint, CheckPointPath,\n",
        "                DivTrain, LatestFile, TrainSet, LogsPath)"
      ]
    },
    {
      "cell_type": "markdown",
      "metadata": {
        "id": "HKVVLygOJ1kd"
      },
      "source": [
        "### Test your neural network"
      ]
    },
    {
      "cell_type": "code",
      "execution_count": null,
      "metadata": {
        "id": "lY-9nSVBJ282"
      },
      "outputs": [],
      "source": [
        "import cv2\n",
        "import os\n",
        "import sys\n",
        "import glob\n",
        "import random\n",
        "from skimage import data, exposure, img_as_float\n",
        "import matplotlib.pyplot as plt\n",
        "import numpy as np\n",
        "import time\n",
        "from torchvision.transforms import ToTensor\n",
        "import argparse\n",
        "import shutil\n",
        "import string\n",
        "import math as m\n",
        "from sklearn.metrics import confusion_matrix\n",
        "from tqdm.notebook import tqdm\n",
        "import torch\n",
        "\n",
        "def SetupAll():\n",
        "    \"\"\"\n",
        "    Outputs:\n",
        "    ImageSize - Size of the Image\n",
        "    \"\"\"   \n",
        "    # Image Input Shape\n",
        "    ImageSize = [32, 32, 3]\n",
        "\n",
        "    return ImageSize\n",
        "\n",
        "def StandardizeInputs(Img):\n",
        "    ##########################################################################\n",
        "    # Add any standardization or cropping/resizing if used in Training here!\n",
        "    ##########################################################################\n",
        "    return Img\n",
        "    \n",
        "def ReadImages(Img):\n",
        "    \"\"\"\n",
        "    Outputs:\n",
        "    I1Combined - I1 image after any standardization and/or cropping/resizing to ImageSize\n",
        "    I1 - Original I1 image for visualization purposes only\n",
        "    \"\"\"    \n",
        "    I1 = Img\n",
        "    \n",
        "    if(I1 is None):\n",
        "        # OpenCV returns empty list if image is not read! \n",
        "        print('ERROR: Image I1 cannot be read')\n",
        "        sys.exit()\n",
        "        \n",
        "    I1S = StandardizeInputs(np.float32(I1))\n",
        "\n",
        "    I1Combined = np.expand_dims(I1S, axis=0)\n",
        "    I1Combined = np.transpose(I1Combined, (0,3,1,2))  #numpy - width, heigth, channel and tensor - channel, width, height\n",
        "    I1Combined = torch.from_numpy(I1Combined)\n",
        "\n",
        "    return I1Combined, I1\n",
        "                \n",
        "\n",
        "def TestOperation(ImageSize, ModelPath, TestSet, LabelsPathPred):\n",
        "    \"\"\"\n",
        "    Inputs: \n",
        "    ImageSize is the size of the image\n",
        "    ModelPath - Path to load trained model from\n",
        "    TestSet - The test dataset\n",
        "    LabelsPathPred - Path to save predictions\n",
        "    Outputs:\n",
        "    Predictions written to /content/data/TxtFiles/PredOut.txt\n",
        "    \"\"\"\n",
        "    # Predict output with forward pass, MiniBatchSize for Test is 1\n",
        "    model = CIFAR10Model(InputSize=3*32*32,OutputSize=10) \n",
        "    \n",
        "    CheckPoint = torch.load(ModelPath)\n",
        "    model.load_state_dict(CheckPoint['model_state_dict'])\n",
        "    print('Number of parameters in this model are %d ' % len(model.state_dict().items()))\n",
        "    \n",
        "    OutSaveT = open(LabelsPathPred, 'w')\n",
        "\n",
        "    for count in tqdm(range(len(TestSet))): \n",
        "        Img, Label = TestSet[count]\n",
        "        Img, ImgOrg = ReadImages(Img)\n",
        "        PredT = torch.argmax(model(Img)).item()\n",
        "\n",
        "        OutSaveT.write(str(PredT)+'\\n')\n",
        "    OutSaveT.close()\n",
        "\n",
        "def Accuracy(Pred, GT):\n",
        "    \"\"\"\n",
        "    Inputs: \n",
        "    Pred are the predicted labels\n",
        "    GT are the ground truth labels\n",
        "    Outputs:\n",
        "    Accuracy in percentage\n",
        "    \"\"\"\n",
        "    return (np.sum(np.array(Pred)==np.array(GT))*100.0/len(Pred))\n",
        "\n",
        "def ReadLabels(LabelsPathTest, LabelsPathPred):\n",
        "    if(not (os.path.isfile(LabelsPathTest))):\n",
        "        print('ERROR: Test Labels do not exist in '+LabelsPathTest)\n",
        "        sys.exit()\n",
        "    else:\n",
        "        LabelTest = open(LabelsPathTest, 'r')\n",
        "        LabelTest = LabelTest.read()\n",
        "        LabelTest = map(float, LabelTest.split())\n",
        "\n",
        "    if(not (os.path.isfile(LabelsPathPred))):\n",
        "        print('ERROR: Pred Labels do not exist in '+LabelsPathPred)\n",
        "        sys.exit()\n",
        "    else:\n",
        "        LabelPred = open(LabelsPathPred, 'r')\n",
        "        LabelPred = LabelPred.read()\n",
        "        LabelPred = map(float, LabelPred.split())\n",
        "        \n",
        "    return LabelTest, LabelPred\n",
        "\n",
        "def ConfusionMatrix(LabelsTrue, LabelsPred):\n",
        "    \"\"\"\n",
        "    LabelsTrue - True labels\n",
        "    LabelsPred - Predicted labels\n",
        "    \"\"\"\n",
        "\n",
        "    # Get the confusion matrix using sklearn.\n",
        "    LabelsTrue, LabelsPred = list(LabelsTrue), list(LabelsPred)\n",
        "    cm = confusion_matrix(y_true=LabelsTrue,  # True class for test-set.\n",
        "                          y_pred=LabelsPred)  # Predicted class.\n",
        "\n",
        "    # Print the confusion matrix as text.\n",
        "    for i in range(10):\n",
        "        print(str(cm[i, :]) + ' ({0})'.format(i))\n",
        "\n",
        "    # Print the class-numbers for easy reference.\n",
        "    class_numbers = [\" ({0})\".format(i) for i in range(10)]\n",
        "    print(\"\".join(class_numbers))\n",
        "\n",
        "    print('Accuracy: '+ str(Accuracy(LabelsPred, LabelsTrue)), '%')\n",
        "\n",
        "\n",
        "ModelPath = \"/content/Checkpoints/0a100model.ckpt\"\n",
        "LabelsPath = \"/content/data/TxtFiles/LabelsTest.txt\"\n",
        "TestSet = CIFAR10(root='data/', train=False)\n",
        "\n",
        "\n",
        "# Setup all needed parameters including file reading\n",
        "ImageSize = SetupAll()\n",
        "\n",
        "# Define PlaceHolder variables for Input and Predicted output\n",
        "LabelsPathPred = '/content/data/TxtFiles/PredOut.txt' # Path to save predicted labels\n",
        "\n",
        "TestOperation(ImageSize, ModelPath, TestSet, LabelsPathPred)\n",
        "\n",
        "# Plot Confusion Matrix\n",
        "LabelsTrue, LabelsPred = ReadLabels(LabelsPath, LabelsPathPred)\n",
        "ConfusionMatrix(LabelsTrue, LabelsPred) "
      ]
    },
    {
      "cell_type": "code",
      "source": [
        "!pip install tensorboard\n",
        "%load_ext tensorboard\n",
        "%tensorboard --logdir Logs"
      ],
      "metadata": {
        "id": "RzHI5E9cV4bT"
      },
      "execution_count": null,
      "outputs": []
    },
    {
      "cell_type": "code",
      "source": [],
      "metadata": {
        "id": "bz-GoiNKV5Ae"
      },
      "execution_count": null,
      "outputs": []
    }
  ],
  "metadata": {
    "colab": {
      "collapsed_sections": [
        "_OTbKmZc84z9",
        "e2aeH7uq8qR7"
      ],
      "name": "Copy of Copy of hw0_Venkatesh.ipynb",
      "provenance": []
    },
    "kernelspec": {
      "display_name": "Python 3.9.10 ('py39')",
      "language": "python",
      "name": "python3"
    },
    "language_info": {
      "codemirror_mode": {
        "name": "ipython",
        "version": 3
      },
      "file_extension": ".py",
      "mimetype": "text/x-python",
      "name": "python",
      "nbconvert_exporter": "python",
      "pygments_lexer": "ipython3",
      "version": "3.9.10"
    },
    "vscode": {
      "interpreter": {
        "hash": "2762af0fb94193cc770e2dbb99b50503f4c838317f9fa63bb8a7461c3d6fd280"
      }
    },
    "accelerator": "GPU",
    "gpuClass": "standard"
  },
  "nbformat": 4,
  "nbformat_minor": 0
}